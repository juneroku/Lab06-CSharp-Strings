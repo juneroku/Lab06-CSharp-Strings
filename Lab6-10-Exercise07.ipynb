{
 "cells": [
  {
   "cell_type": "markdown",
   "metadata": {
    "dotnet_interactive": {
     "language": "csharp"
    },
    "polyglot_notebook": {
     "kernelName": "csharp"
    }
   },
   "source": [
    "# Lab 6 Exercise 7"
   ]
  },
  {
   "cell_type": "markdown",
   "metadata": {},
   "source": [
    "\n",
    "## Substrings\n",
    "\n",
    "Substrings ใช้สร้าง string ใหม่จากส่วนหนึ่งของ string  ต้นฉบับ \n",
    "การกระทำของ method ต่างๆ จะไม่มีการแก้ไขสตริงดั้งเดิม "
   ]
  },
  {
   "cell_type": "markdown",
   "metadata": {},
   "source": [
    "## การปฏิบัติ"
   ]
  },
  {
   "cell_type": "markdown",
   "metadata": {},
   "source": [
    "1. สร้าง project ใหม่\n",
    "\n",
    ">   ```\n",
    ">       dotnet new console -n Lab06_Exercise07\n",
    ">   ```"
   ]
  },
  {
   "cell_type": "markdown",
   "metadata": {},
   "source": [
    "2. แก้ไข code ใน Program.cs เป็นดังนี้"
   ]
  },
  {
   "cell_type": "markdown",
   "metadata": {},
   "source": [
    "\n",
    "2.1 Program #1\n",
    "\n",
    ">   ```c#\n",
    ">       string s1 = \"I \\u0003 Visual C# \";\n",
    ">       System.Console.WriteLine($\"s1 = {s1}\");\n",
    ">       \n",
    ">       // 1. เมธอด IndexOf() ใช้ค้นหาลำดับที่ของอักขระที่ปรากฏใน string และส่งค่าตำแหน่งที่พบมาให้ (Zero index)\n",
    ">       var indexOfC = s1.IndexOf(\"C\");\n",
    ">       System.Console.WriteLine($\"Index of C in s1 = {indexOfC}\");\n",
    ">       \n",
    ">       // 2. เมธอด Substring(  ) คัดลอกบางส่วนของ string ต้นฉบับออกมา โดยการระบุพารามิเตอร์ >    ตำแหน่ งเริ่มต้นและความยาวที่ต้องการ \n",
    ">       var substring = s1.Substring(indexOfC, 2);\n",
    ">       System.Console.WriteLine($\"s1.Substring({indexOfC}, 2) = {substring}\");\n",
    ">       \n",
    ">       // 3. เมธอด Replace(  ) ใช้แทนที่บางส่วนของ string  ด้วย string ที่กำหนด \n",
    ">       System.Console.WriteLine($\"Replace C# with Basic and write to s2\");\n",
    ">       System.Console.WriteLine($\"Before replace s1.hashcode = {s1.GetHashCode():X}\"); \n",
    ">       var s2 = s1.Replace(\"C#\", \"Basic\");\n",
    ">       System.Console.WriteLine($\"s1 = {s1}\");\n",
    ">       System.Console.WriteLine($\"s2 = {s2}\");\n",
    ">       System.Console.WriteLine($\"After replace s1.hashcode = {s1.GetHashCode():X}\"); \n",
    ">   ```"
   ]
  },
  {
   "cell_type": "markdown",
   "metadata": {},
   "source": [
    "2.2 อธิบายโปรแกรม\n",
    "\n",
    "ให้ศึกษาโปรแกรมด้านบนและอธิบายการทำงาน"
   ]
  },
  {
   "cell_type": "markdown",
   "metadata": {},
   "source": [
    "โค้ดนี้สาธิตการใช้งานเมธอดพื้นฐานในการจัดการกับสตริงในภาษา C# โดยเฉพาะการค้นหาตำแหน่งของตัวอักษร การตัดสตริง และการแทนที่สตริง"
   ]
  },
  {
   "cell_type": "markdown",
   "metadata": {},
   "source": [
    "2.3 รันโปรแกรม\n",
    "\n",
    ">   ```\n",
    ">       dotnet run --project Lab03_Exercise07\n",
    ">   ```\n"
   ]
  },
  {
   "cell_type": "markdown",
   "metadata": {},
   "source": [
    "2.4 commit code  เนื่องจากต้องมีการแก้ไข code "
   ]
  },
  {
   "cell_type": "markdown",
   "metadata": {},
   "source": [
    "3. แก้ไข code ใน Program.cs เป็นดังนี้"
   ]
  },
  {
   "cell_type": "markdown",
   "metadata": {},
   "source": [
    "\n",
    "3.1 Program #2\n",
    "\n",
    ">   ```c#\n",
    ">       string s1 = \"I \\u0003 Visual C# \";\n",
    ">       System.Console.WriteLine($\"s1 = {s1}\");\n",
    ">       \n",
    ">       // 1. เมธอด IndexOf() ใช้ค้นหาลำดับที่ของอักขระที่ปรากฏใน string และส่งค่าตำแหน่งที่พบมาให้ (Zero index)\n",
    ">       var indexOfC = s1.IndexOf(\"C\");\n",
    ">       System.Console.WriteLine($\"Index of C in s1 = {indexOfC}\");\n",
    ">       \n",
    ">       // 2. เมธอด Substring(  ) คัดลอกบางส่วนของ string ต้นฉบับออกมา โดยการระบุพารามิเตอร์ >    ตำแหน่ งเริ่มต้นและความยาวที่ต้องการ \n",
    ">       var substring = s1.Substring(indexOfC, 2);\n",
    ">       System.Console.WriteLine($\"s1.Substring({indexOfC}, 2) = {substring}\");\n",
    ">       \n",
    ">       // 3. เมธอด Replace(  ) ใช้แทนที่บางส่วนของ string  ด้วย string ที่กำหนด \n",
    ">       System.Console.WriteLine($\"Replace C# with Basic and write to s2\");\n",
    ">       System.Console.WriteLine($\"Before replace s1.hashcode = {s1.GetHashCode():X}\"); \n",
    ">       s1 = s1.Replace(\"C#\", \"Basic\");\n",
    ">       System.Console.WriteLine($\"s1 = {s1}\");\n",
    ">       System.Console.WriteLine($\"After replace s1.hashcode = {s1.GetHashCode():X}\"); \n",
    ">   ```\n"
   ]
  },
  {
   "cell_type": "markdown",
   "metadata": {},
   "source": [
    "3.2 อธิบายโปรแกรม\n",
    "\n",
    "ให้ศึกษาโปรแกรมด้านบนและอธิบายการทำงาน"
   ]
  },
  {
   "cell_type": "markdown",
   "metadata": {},
   "source": [
    "โค้ดนี้สาธิตการใช้งานเมธอดพื้นฐานในการจัดการกับสตริงในภาษา C# ซึ่งรวมถึงการค้นหาตำแหน่งของตัวอักษร การตัดสตริง และการแทนที่สตริง\n",
    "\n"
   ]
  },
  {
   "cell_type": "markdown",
   "metadata": {},
   "source": [
    "3.3 รันโปรแกรม\n",
    "\n",
    ">   ```cmd\n",
    ">       dotnet run --project Lab06_Exercise07\n",
    ">   ```"
   ]
  },
  {
   "cell_type": "markdown",
   "metadata": {},
   "source": [
    "\n",
    "4. คำถาม\n",
    "\n",
    "โปรแกรม #1 ในข้อ 2 และโปรแกรม #2 ในข้อ 3 มีผลลัพธ์ที่ต่างกันอย่างไร\n",
    "\n",
    "อธิบายว่าทำไมจึงเป็นเช่นนั้น\n"
   ]
  },
  {
   "cell_type": "markdown",
   "metadata": {},
   "source": [
    "ขั้นตอนการทำงานเหมือนกัน แต่การคำนวณค่า Hash code ต่างกันทำให้มีผลลัพธ์ที่แสดงต่างกัน"
   ]
  },
  {
   "cell_type": "markdown",
   "metadata": {},
   "source": [
    "5. การส่งงาน\n",
    "\n",
    "บันทึกภาพหน้าจอโปรแกรม แนบในใบงานนี้"
   ]
  },
  {
   "attachments": {
    "image.png": {
     "image/png": "[encoded data removed]"
    }
   },
   "cell_type": "markdown",
   "metadata": {},
   "source": [
    "__รูป 2.2 และ 3.2__\n",
    "\n",
    "![image.png](attachment:image.png)"
   ]
  }
 ],
 "metadata": {
  "kernelspec": {
   "display_name": ".NET (C#)",
   "language": "C#",
   "name": ".net-csharp"
  },
  "polyglot_notebook": {
   "kernelInfo": {
    "defaultKernelName": "csharp",
    "items": [
     {
      "aliases": [],
      "languageName": "csharp",
      "name": "csharp"
     }
    ]
   }
  }
 },
 "nbformat": 4,
 "nbformat_minor": 2
}
