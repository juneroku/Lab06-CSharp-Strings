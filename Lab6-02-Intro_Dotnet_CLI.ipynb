{
 "cells": [
  {
   "cell_type": "markdown",
   "metadata": {},
   "source": [
    "# แนะนำ dotnet CLI"
   ]
  },
  {
   "cell_type": "markdown",
   "metadata": {},
   "source": [
    "## คำสั่งพื้นฐาน"
   ]
  },
  {
   "cell_type": "markdown",
   "metadata": {},
   "source": [
    "เราสามารถสั่งให้ dotnet แสดงคำสั่งพื้นฐานออกมาโดยการใข้คำสั่ง dotnet คำสั่ง --help ซึ่งจะแสดงคำสั่งพร้อมรูปแบบการใช้งานโดยย่อออกมา\n",
    "\n",
    "TODO: รันคำสั่งใน block cell ด้านล่างนี้ (หมายเหตุ  block cell ด้านล่างใช้ kernel power shell ซึ่งสามารถเรียกใช้คำสั่งของระบบจาก notbook ได้โดยตรง)"
   ]
  },
  {
   "cell_type": "code",
   "execution_count": null,
   "metadata": {
    "dotnet_interactive": {
     "language": "pwsh"
    },
    "polyglot_notebook": {
     "kernelName": "pwsh"
    }
   },
   "outputs": [
    {
     "name": "stdout",
     "output_type": "stream",
     "text": [
      "Usage: dotnet [runtime-options] [path-to-application] [arguments]\n",
      "\n",
      "Execute a .NET application.\n",
      "\n",
      "runtime-options:\n",
      "  --additionalprobingpath <path>   Path containing probing policy and assemblies to probe for.\n",
      "  --additional-deps <path>         Path to additional deps.json file.\n",
      "  --depsfile                       Path to <application>.deps.json file.\n",
      "  --fx-version <version>           Version of the installed Shared Framework to use to run the application.\n",
      "  --roll-forward <setting>         Roll forward to framework version  (LatestPatch, Minor, LatestMinor, Major, LatestMajor, Disable).\n",
      "  --runtimeconfig                  Path to <application>.runtimeconfig.json file.\n",
      "\n",
      "path-to-application:\n",
      "  The path to an application .dll file to execute.\n",
      "\n",
      "Usage: dotnet [sdk-options] [command] [command-options] [arguments]\n",
      "\n",
      "Execute a .NET SDK command.\n",
      "\n",
      "sdk-options:\n",
      "  -d|--diagnostics  Enable diagnostic output.\n",
      "  -h|--help         Show command line help.\n",
      "  --info            Display .NET information.\n",
      "  --list-runtimes   Display the installed runtimes.\n",
      "  --list-sdks       Display the installed SDKs.\n",
      "  --version         Display .NET SDK version in use.\n",
      "\n",
      "SDK commands:\n",
      "  add               Add a package or reference to a .NET project.\n",
      "  build             Build a .NET project.\n",
      "  build-server      Interact with servers started by a build.\n",
      "  clean             Clean build outputs of a .NET project.\n",
      "  format            Apply style preferences to a project or solution.\n",
      "  help              Show command line help.\n",
      "  list              List project references of a .NET project.\n",
      "  msbuild           Run Microsoft Build Engine (MSBuild) commands.\n",
      "  new               Create a new .NET project or file.\n",
      "  nuget             Provides additional NuGet commands.\n",
      "  pack              Create a NuGet package.\n",
      "  publish           Publish a .NET project for deployment.\n",
      "  remove            Remove a package or reference from a .NET project.\n",
      "  restore           Restore dependencies specified in a .NET project.\n",
      "  run               Build and run a .NET project output.\n",
      "  sdk               Manage .NET SDK installation.\n",
      "  sln               Modify Visual Studio solution files.\n",
      "  store             Store the specified assemblies in the runtime package store.\n",
      "  test              Run unit tests using the test runner specified in a .NET project.\n",
      "  tool              Install or manage tools that extend the .NET experience.\n",
      "  vstest            Run Microsoft Test Engine (VSTest) commands.\n",
      "  workload          Manage optional workloads.\n",
      "\n",
      "Additional commands from bundled tools:\n",
      "  dev-certs         Create and manage development certificates.\n",
      "  fsi               Start F# Interactive / execute F# scripts.\n",
      "  user-jwts         Manage JSON Web Tokens in development.\n",
      "  user-secrets      Manage development user secrets.\n",
      "  watch             Start a file watcher that runs a command when files change.\n",
      "\n",
      "Run 'dotnet [command] --help' for more information on a command.\n"
     ]
    }
   ],
   "source": [
    "dotnet --help"
   ]
  },
  {
   "cell_type": "markdown",
   "metadata": {},
   "source": [
    "คำสั่งที่ใช้ในการทดลองพื้นฐาน จะมี 3 คำสั่งคือ new, build และ run ซึ่งสามารถศึกษารูปแบบการใช้งานโดยใช้คำสั่ง help ได้เช่นกัน"
   ]
  },
  {
   "cell_type": "markdown",
   "metadata": {},
   "source": [
    "### คำสั่ง dotnet new"
   ]
  },
  {
   "cell_type": "code",
   "execution_count": null,
   "metadata": {
    "dotnet_interactive": {
     "language": "pwsh"
    },
    "polyglot_notebook": {
     "kernelName": "pwsh"
    }
   },
   "outputs": [
    {
     "name": "stdout",
     "output_type": "stream",
     "text": [
      "Description:\n",
      "  Template Instantiation Commands for .NET CLI.\n",
      "\n",
      "Usage:\n",
      "  dotnet new [<template-short-name> [<template-args>...]] [options]\n",
      "  dotnet new [command] [options]\n",
      "\n",
      "Arguments:\n",
      "  <template-short-name>  A short name of the template to create.\n",
      "  <template-args>        Template specific options to use.\n",
      "\n",
      "Options:\n",
      "  -o, --output <output>    Location to place the generated output.\n",
      "  -n, --name <name>        The name for the output being created. If no name is specified, the name of the output directory is used.\n",
      "  --dry-run                Displays a summary of what would happen if the given command line were run if it would result in a template creation.\n",
      "  --force                  Forces content to be generated even if it would change existing files.\n",
      "  --no-update-check        Disables checking for the template package updates when instantiating a template.\n",
      "  --project <project>      The project that should be used for context evaluation.\n",
      "  -v, --verbosity <LEVEL>  Sets the verbosity level. Allowed values are q[uiet], m[inimal], n[ormal], and diag[nostic]. [default: normal]\n",
      "  -d, --diagnostics        Enables diagnostic output.\n",
      "  -?, -h, --help           Show command line help.\n",
      "\n",
      "Commands:\n",
      "  create <template-short-name> <template-args>  Instantiates a template with given short name. An alias of 'dotnet new <template name>'.\n",
      "  install <package>                             Installs a template package.\n",
      "  uninstall <package>                           Uninstalls a template package.\n",
      "  update                                        Checks the currently installed template packages for update, and install the updates.\n",
      "  search <template-name>                        Searches for the templates on NuGet.org.\n",
      "  list <template-name>                          Lists templates containing the specified template name. If no name is specified, lists all templates.\n",
      "  details <package-identifier>                  Provides the details for specified template package.\n",
      "                                                      The command checks if the package is installed locally, if it was not found, it searches the configured NuGet feeds.\n",
      "\n"
     ]
    }
   ],
   "source": [
    "dotnet --help new"
   ]
  },
  {
   "cell_type": "markdown",
   "metadata": {},
   "source": [
    "ดูเพิ่มเติมที่\n",
    "\n",
    "https://learn.microsoft.com/en-us/dotnet/core/tools/dotnet-new"
   ]
  },
  {
   "cell_type": "markdown",
   "metadata": {},
   "source": [
    "### คำสั่ง dotnet build"
   ]
  },
  {
   "cell_type": "code",
   "execution_count": null,
   "metadata": {
    "dotnet_interactive": {
     "language": "pwsh"
    },
    "polyglot_notebook": {
     "kernelName": "pwsh"
    }
   },
   "outputs": [
    {
     "name": "stdout",
     "output_type": "stream",
     "text": [
      "Description:\n",
      "  .NET Builder\n",
      "\n",
      "Usage:\n",
      "  dotnet build [<PROJECT | SOLUTION>...] [options]\n",
      "\n",
      "Arguments:\n",
      "  <PROJECT | SOLUTION>  The project or solution file to operate on. If a file is not specified, the command will search the current directory for one.\n",
      "\n",
      "Options:\n",
      "  --ucr, --use-current-runtime         Use current runtime as the target runtime.\n",
      "  -f, --framework <FRAMEWORK>          The target framework to build for. The target framework must also be specified in the project file.\n",
      "  -c, --configuration <CONFIGURATION>  The configuration to use for building the project. The default for most projects is 'Debug'.\n",
      "  -r, --runtime <RUNTIME_IDENTIFIER>   The target runtime to build for.\n",
      "  --version-suffix <VERSION_SUFFIX>    Set the value of the $(VersionSuffix) property to use when building the project.\n",
      "  --no-restore                         Do not restore the project before building.\n",
      "  --interactive                        Allows the command to stop and wait for user input or action (for example to complete authentication).\n",
      "  -v, --verbosity <LEVEL>              Set the MSBuild verbosity level. Allowed values are q[uiet], m[inimal], n[ormal], d[etailed], and diag[nostic].\n",
      "  --debug\n",
      "  -o, --output <OUTPUT_DIR>            The output directory to place built artifacts in.\n",
      "  --artifacts-path <ARTIFACTS_DIR>     The artifacts path. All output from the project, including build, publish, and pack output, will go in subfolders under the specified path.\n",
      "  --no-incremental                     Do not use incremental building.\n",
      "  --no-dependencies                    Do not build project-to-project references and only build the specified project.\n",
      "  --nologo                             Do not display the startup banner or the copyright message.\n",
      "  --sc, --self-contained               Publish the .NET runtime with your application so the runtime doesn't need to be installed on the target machine.\n",
      "                                       The default is 'false.' However, when targeting .NET 7 or lower, the default is 'true' if a runtime identifier is specified.\n",
      "  --no-self-contained                  Publish your application as a framework dependent application. A compatible .NET runtime must be installed on the target machine to run your application.\n",
      "  -a, --arch <ARCH>                    The target architecture.\n",
      "  --os <OS>                            The target operating system.\n",
      "  --disable-build-servers              Force the command to ignore any persistent build servers.\n",
      "  -?, -h, --help                       Show command line help.\n",
      "\n",
      "\n",
      "\n"
     ]
    }
   ],
   "source": [
    "dotnet --help build"
   ]
  },
  {
   "cell_type": "markdown",
   "metadata": {},
   "source": [
    "### คำสั่ง dotnet build"
   ]
  },
  {
   "cell_type": "code",
   "execution_count": null,
   "metadata": {
    "dotnet_interactive": {
     "language": "pwsh"
    },
    "polyglot_notebook": {
     "kernelName": "pwsh"
    }
   },
   "outputs": [
    {
     "name": "stdout",
     "output_type": "stream",
     "text": [
      "Description:\n",
      "  .NET Run Command\n",
      "\n",
      "Usage:\n",
      "  dotnet run [<applicationArguments>...] [options]\n",
      "\n",
      "Arguments:\n",
      "  <applicationArguments>  Arguments passed to the application that is being run. []\n",
      "\n",
      "Options:\n",
      "  -c, --configuration <CONFIGURATION>     The configuration to run for. The default for most projects is 'Debug'.\n",
      "  -f, --framework <FRAMEWORK>             The target framework to run for. The target framework must also be specified in the project file.\n",
      "  -r, --runtime <RUNTIME_IDENTIFIER>      The target runtime to run for.\n",
      "  --project <project>                     The path to the project file to run (defaults to the current directory if there is only one project).\n",
      "  -p, --property <property>               Properties to be passed to MSBuild.\n",
      "  -lp, --launch-profile <launch-profile>  The name of the launch profile (if any) to use when launching the application.\n",
      "  --no-launch-profile                     Do not attempt to use launchSettings.json to configure the application.\n",
      "  --no-build                              Do not build the project before running. Implies --no-restore.\n",
      "  --interactive                           Allows the command to stop and wait for user input or action (for example to complete authentication).\n",
      "  --no-restore                            Do not restore the project before building.\n",
      "  --sc, --self-contained                  Publish the .NET runtime with your application so the runtime doesn't need to be installed on the target machine.\n",
      "                                          The default is 'false.' However, when targeting .NET 7 or lower, the default is 'true' if a runtime identifier is specified.\n",
      "  --no-self-contained                     Publish your application as a framework dependent application. A compatible .NET runtime must be installed on the target machine to run your application.\n",
      "  -v, --verbosity <LEVEL>                 Set the MSBuild verbosity level. Allowed values are q[uiet], m[inimal], n[ormal], d[etailed], and diag[nostic].\n",
      "  -a, --arch <ARCH>                       The target architecture.\n",
      "  --os <OS>                               The target operating system.\n",
      "  --disable-build-servers                 Force the command to ignore any persistent build servers.\n",
      "  --artifacts-path <ARTIFACTS_DIR>        The artifacts path. All output from the project, including build, publish, and pack output, will go in subfolders under the specified path.\n",
      "  -?, -h, --help                          Show command line help.\n",
      "\n",
      "\n",
      "\n"
     ]
    }
   ],
   "source": [
    "dotnet --help run"
   ]
  }
 ],
 "metadata": {
  "kernelspec": {
   "display_name": ".NET (C#)",
   "language": "C#",
   "name": ".net-csharp"
  },
  "polyglot_notebook": {
   "kernelInfo": {
    "defaultKernelName": "csharp",
    "items": [
     {
      "aliases": [],
      "languageName": "csharp",
      "name": "csharp"
     }
    ]
   }
  }
 },
 "nbformat": 4,
 "nbformat_minor": 2
}
