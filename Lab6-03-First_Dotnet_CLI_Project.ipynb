{
 "cells": [
  {
   "cell_type": "markdown",
   "metadata": {},
   "source": [
    "# การสร้าง project ด้วย dotnet CLI"
   ]
  },
  {
   "cell_type": "markdown",
   "metadata": {},
   "source": [
    "แม้ว่าการศึกษา C#  โดยใช้ polyglot notebook สามารถรันคำสั่งได้จาก notbook โดยตรง\n",
    "\n",
    "แต่บางคำสั่งจะไม่สามารถใช้งานใน polyglot notebook ได้ เช่นคำสั่ง Console.ReadLine()\n",
    "\n",
    "ดังนั้นในใบงานที่ต้องมีการตอบสนองจากผู้ใช้ จะต้องสร้าง project ชนิดที่เหมาะสม เพื่อให้บรรลุวัตถุประสงค์ "
   ]
  },
  {
   "cell_type": "markdown",
   "metadata": {},
   "source": [
    "### การสร้าง project แรก \"Hello_World\"\n",
    "\n",
    "1. เรียก terminal ของ visual studio code ขึ้นมา\n",
    "\n",
    "2. ย้ายไปยัง folder ทื่ต้องการสร้าง project \n",
    "\n",
    "3. พิมพ์คำสั่งต่อไปนี้ \n",
    "\n",
    "> ``` cmd\n",
    ">        dotnet new console -n Hello_World  -o Hello_World \n",
    "> ```"
   ]
  },
  {
   "cell_type": "markdown",
   "metadata": {},
   "source": [
    "> \n",
    "> __dotnet__ เป็นคำสั่งหลักของ .NET CLI ที่ใช้เรียกใช้เครื่องมือต่างๆ ของ .NET\n",
    "> \n",
    "> __new__ คำสั่งย่อยที่ใช้สร้างโปรเจกต์หรือไฟล์ใหม่ ในที่นี้เราใช้เพื่อสร้างโปรเจกต์ใหม่\n",
    "> \n",
    "> \n",
    "> __console__ ระบุชนิดของโปรเจกต์ที่ต้องการสร้าง ซึ่งในที่นี้คือ \"console application\" หรือโปรแกรมที่ทำงานในหน้าต่างคอนโซล\n",
    "> \n",
    "> __-n Hello_World__  ตัวเลือก -n หรือ --name ใช้สำหรับกำหนดชื่อของโปรเจกต์ ในที่นี้คือ \"Hello_World\" ชื่อนี้จะถูกใช้เป็นชื่อของโฟลเดอร์หลักของโปรเจกต์ และเป็น > namespace เริ่มต้นในโค้ด\n",
    "> \n",
    "> __-o Hello_World__  ตัวเลือก -o หรือ --output ใช้สำหรับกำหนดตำแหน่งที่ต้องการสร้างโปรเจกต์ ในที่นี้คือโฟลเดอร์ \"Hello_World\" ถ้าไม่ระบุตัวเลือกนี้ > โปรเจกต์จะถูกสร้างในไดเร็กทอรีปัจจุบัน\n",
    "> \n",
    "> __สรุป__ คำสั่ง `dotnet new console -n Hello_World -o Hello_World` จะสร้างโปรเจกต์คอนโซลแอปพลิเคชันชื่อ \"Hello_World\" ในโฟลเดอร์ \"Hello_World\"\n",
    "\n"
   ]
  },
  {
   "cell_type": "markdown",
   "metadata": {},
   "source": [
    "__หมายเหตุ__\n",
    "อาจจะมีคำเตือนบางอย่าง จากการสร้าง แต่ถ้าไม่ร้ายแรงและสามารถสร้าง project ได้สำเร็จก็ให้ผ่านคำเตือนนั้นไปก่อน \n"
   ]
  },
  {
   "cell_type": "markdown",
   "metadata": {},
   "source": [
    "4. คลิกเข้าไปดูในไฟล์ Program.cs จะต้องเห็น source code ดังต่อไปนี้"
   ]
  },
  {
   "cell_type": "markdown",
   "metadata": {},
   "source": [
    "``` csharp\n",
    "// See https://aka.ms/new-console-template for more information\n",
    "Console.WriteLine(\"Hello, World!\");\n",
    "```"
   ]
  },
  {
   "cell_type": "markdown",
   "metadata": {},
   "source": [
    "5. ใน terminal ของ visual studio code ให้เปลี่ยน working folder ไปอยู่ใน Hello_World แล้วพิมพ์คำสั่งต่อไปนี้\n",
    "\n",
    "> ``` cmd\n",
    ">        dotnet build\n",
    "> ```"
   ]
  },
  {
   "cell_type": "markdown",
   "metadata": {},
   "source": [
    "Todo: บันทึกหน้าจอที่ได้จากการรันคำสั่งข้างบน"
   ]
  },
  {
   "cell_type": "markdown",
   "metadata": {},
   "source": [
    "6. ใน terminal ของ visual studio code ให้เปลี่ยน working folder ไปอยู่ใน Hello_World แล้วพิมพ์คำสั่งต่อไปนี้\n",
    "\n",
    "> ``` cmd\n",
    ">        dotnet run\n",
    "> ```"
   ]
  },
  {
   "cell_type": "markdown",
   "metadata": {},
   "source": [
    "Todo: บันทึกหน้าจอที่ได้จากการรันคำสั่งข้างบน"
   ]
  },
  {
   "attachments": {
    "image.png": {
     "image/png": "[encoded data removed]"
    }
   },
   "cell_type": "markdown",
   "metadata": {},
   "source": [
    "![image.png](attachment:image.png)"
   ]
  }
 ],
 "metadata": {
  "kernelspec": {
   "display_name": ".NET (C#)",
   "language": "C#",
   "name": ".net-csharp"
  },
  "polyglot_notebook": {
   "kernelInfo": {
    "defaultKernelName": "csharp",
    "items": [
     {
      "aliases": [],
      "languageName": "csharp",
      "name": "csharp"
     }
    ]
   }
  }
 },
 "nbformat": 4,
 "nbformat_minor": 2
}
